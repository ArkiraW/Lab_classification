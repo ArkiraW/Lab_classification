{
 "cells": [
  {
   "cell_type": "markdown",
   "id": "e5e043b2",
   "metadata": {},
   "source": [
    "## Predicting Left-Handedness from Psychological Factors\n",
    "> Author: Matt Brems\n",
    "\n",
    "One way to define the data science process is as follows:\n",
    "\n",
    "1. Define the problem.\n",
    "2. Obtain the data.\n",
    "3. Explore the data.\n",
    "4. Model the data.\n",
    "5. Evaluate the model.\n",
    "6. Answer the problem.\n",
    "\n",
    "We'll walk through a full data science problem in this lab. \n",
    "\n",
    "---\n",
    "## Define The Problem.\n",
    "\n",
    "You're currently a data scientist working at a university. A professor of psychology is attempting to study the relationship between personalities and left-handedness. They have tasked you with gathering evidence so that they may publish.\n",
    "\n",
    "As a data scientist, you know that any real data science problem must be **specific** and **conclusively answerable**. For example:\n",
    "- Bad data science problem: \"What is the link between obesity and blood pressure?\"\n",
    "    - This is vague and is not conclusively answerable. That is, two people might look at the conclusion and one may say \"Sure, the problem has been answered!\" and the other may say \"The problem has not yet been answered.\"\n",
    "- Good data science problem: \"Does an association exist between obesity and blood pressure?\"\n",
    "    - This is more specific and is conclusively answerable. The problem specifically is asking for a \"Yes\" or \"No\" answer. Based on that, two independent people should both be able to say either \"Yes, the problem has been answered\" or \"No, the problem has not yet been answered.\"\n",
    "- Excellent data science problem: \"As obesity increases, how does blood pressure change?\"\n",
    "    - This is very specific and is conclusively answerable. The problem specifically seeks to understand the effect of one variable on the other.\n",
    "\n",
    "### In the context of the left-handedness and personality example, what are three specific and conclusively answerable problems that you could answer using data science? \n",
    "\n",
    "> You might find it helpful to check out the codebook in the repo for some inspiration."
   ]
  },
  {
   "cell_type": "markdown",
   "id": "426b3825-5ffb-4123-b9b7-f8bc60c4c4aa",
   "metadata": {},
   "source": [
    "Research from psychology and education indicates that in most cases, children with a left-sided profile have difficulties in mastering oral and written language skills, numeracy and mathematical operations. A characteristic feature of left-handers is the insufficient and specific development of visual perception, which normally creates the basis for mastering reading and writing.\n"
   ]
  },
  {
   "cell_type": "markdown",
   "id": "32144652",
   "metadata": {},
   "source": [
    "---\n",
    "## Step 2: Obtain the data.\n",
    "\n",
    "### Read in the file titled \"data.csv\":\n",
    "> Hint: Despite being saved as a .csv file, you won't be able to simply `pd.read_csv()` this data!"
   ]
  },
  {
   "cell_type": "code",
   "execution_count": 4,
   "id": "2a154e91",
   "metadata": {},
   "outputs": [],
   "source": [
    "# library imports\n",
    "import pandas as pd\n",
    "import numpy as np\n",
    "import seaborn as sns\n",
    "import matplotlib.pyplot as plt\n",
    "\n",
    "from sklearn.neighbors import KNeighborsClassifier\n",
    "from sklearn.datasets import load_breast_cancer\n",
    "from sklearn.model_selection import train_test_split, cross_val_score\n",
    "from sklearn.preprocessing import StandardScaler\n",
    "from sklearn.linear_model import LogisticRegression, Lasso, Ridge\n",
    "from sklearn.metrics import confusion_matrix"
   ]
  },
  {
   "cell_type": "code",
   "execution_count": 5,
   "id": "1e730059",
   "metadata": {},
   "outputs": [],
   "source": [
    "df = pd.read_table('data.csv')"
   ]
  },
  {
   "cell_type": "markdown",
   "id": "50b55b21",
   "metadata": {},
   "source": [
    "---\n",
    "\n",
    "## Step 3: Explore the data.\n",
    "\n",
    "### Conduct background research:\n",
    "\n",
    "Domain knowledge is irreplaceable. Figuring out what information is relevant to a problem, or what data would be useful to gather, is a major part of any end-to-end data science project! For this lab, you'll be using a dataset that someone else has put together, rather than collecting the data yourself.\n",
    "\n",
    "Do some background research about personality and handedness. What features, if any, are likely to help you make good predictions? How well do you think you'll be able to model this? Write a few bullet points summarizing what you believe, and remember to cite external sources.\n",
    "\n",
    "You don't have to be exhaustive here. Do enough research to form an opinion, and then move on.\n",
    "\n",
    "> You'll be using the answers to Q1-Q44 for modeling; you can disregard other features, e.g. country, age, internet browser."
   ]
  },
  {
   "cell_type": "markdown",
   "id": "30debd52-5b94-4481-ac71-53a9b9226ee3",
   "metadata": {},
   "source": []
  },
  {
   "cell_type": "markdown",
   "id": "3adf0649",
   "metadata": {},
   "source": [
    "### Conduct exploratory data analysis on this dataset:\n",
    "\n",
    "If you haven't already, be sure to check out the codebook in the repo, as that will help in your EDA process.\n",
    "\n",
    "You might use this section to perform data cleaning if you find it to be necessary."
   ]
  },
  {
   "cell_type": "code",
   "execution_count": 9,
   "id": "0dfaf7ef",
   "metadata": {},
   "outputs": [
    {
     "data": {
      "text/html": [
       "<div>\n",
       "<style scoped>\n",
       "    .dataframe tbody tr th:only-of-type {\n",
       "        vertical-align: middle;\n",
       "    }\n",
       "\n",
       "    .dataframe tbody tr th {\n",
       "        vertical-align: top;\n",
       "    }\n",
       "\n",
       "    .dataframe thead th {\n",
       "        text-align: right;\n",
       "    }\n",
       "</style>\n",
       "<table border=\"1\" class=\"dataframe\">\n",
       "  <thead>\n",
       "    <tr style=\"text-align: right;\">\n",
       "      <th></th>\n",
       "      <th>Q1</th>\n",
       "      <th>Q2</th>\n",
       "      <th>Q3</th>\n",
       "      <th>Q4</th>\n",
       "      <th>Q5</th>\n",
       "      <th>Q6</th>\n",
       "      <th>Q7</th>\n",
       "      <th>Q8</th>\n",
       "      <th>Q9</th>\n",
       "      <th>Q10</th>\n",
       "      <th>...</th>\n",
       "      <th>country</th>\n",
       "      <th>fromgoogle</th>\n",
       "      <th>engnat</th>\n",
       "      <th>age</th>\n",
       "      <th>education</th>\n",
       "      <th>gender</th>\n",
       "      <th>orientation</th>\n",
       "      <th>race</th>\n",
       "      <th>religion</th>\n",
       "      <th>hand</th>\n",
       "    </tr>\n",
       "  </thead>\n",
       "  <tbody>\n",
       "    <tr>\n",
       "      <th>0</th>\n",
       "      <td>4</td>\n",
       "      <td>1</td>\n",
       "      <td>5</td>\n",
       "      <td>1</td>\n",
       "      <td>5</td>\n",
       "      <td>1</td>\n",
       "      <td>5</td>\n",
       "      <td>1</td>\n",
       "      <td>4</td>\n",
       "      <td>1</td>\n",
       "      <td>...</td>\n",
       "      <td>US</td>\n",
       "      <td>2</td>\n",
       "      <td>1</td>\n",
       "      <td>22</td>\n",
       "      <td>3</td>\n",
       "      <td>1</td>\n",
       "      <td>1</td>\n",
       "      <td>3</td>\n",
       "      <td>2</td>\n",
       "      <td>3</td>\n",
       "    </tr>\n",
       "    <tr>\n",
       "      <th>1</th>\n",
       "      <td>1</td>\n",
       "      <td>5</td>\n",
       "      <td>1</td>\n",
       "      <td>4</td>\n",
       "      <td>2</td>\n",
       "      <td>5</td>\n",
       "      <td>5</td>\n",
       "      <td>4</td>\n",
       "      <td>1</td>\n",
       "      <td>5</td>\n",
       "      <td>...</td>\n",
       "      <td>CA</td>\n",
       "      <td>2</td>\n",
       "      <td>1</td>\n",
       "      <td>14</td>\n",
       "      <td>1</td>\n",
       "      <td>2</td>\n",
       "      <td>2</td>\n",
       "      <td>6</td>\n",
       "      <td>1</td>\n",
       "      <td>1</td>\n",
       "    </tr>\n",
       "    <tr>\n",
       "      <th>2</th>\n",
       "      <td>1</td>\n",
       "      <td>2</td>\n",
       "      <td>1</td>\n",
       "      <td>1</td>\n",
       "      <td>5</td>\n",
       "      <td>4</td>\n",
       "      <td>3</td>\n",
       "      <td>2</td>\n",
       "      <td>1</td>\n",
       "      <td>4</td>\n",
       "      <td>...</td>\n",
       "      <td>NL</td>\n",
       "      <td>2</td>\n",
       "      <td>2</td>\n",
       "      <td>30</td>\n",
       "      <td>4</td>\n",
       "      <td>1</td>\n",
       "      <td>1</td>\n",
       "      <td>1</td>\n",
       "      <td>1</td>\n",
       "      <td>2</td>\n",
       "    </tr>\n",
       "    <tr>\n",
       "      <th>3</th>\n",
       "      <td>1</td>\n",
       "      <td>4</td>\n",
       "      <td>1</td>\n",
       "      <td>5</td>\n",
       "      <td>1</td>\n",
       "      <td>4</td>\n",
       "      <td>5</td>\n",
       "      <td>4</td>\n",
       "      <td>3</td>\n",
       "      <td>5</td>\n",
       "      <td>...</td>\n",
       "      <td>US</td>\n",
       "      <td>2</td>\n",
       "      <td>1</td>\n",
       "      <td>18</td>\n",
       "      <td>2</td>\n",
       "      <td>2</td>\n",
       "      <td>5</td>\n",
       "      <td>3</td>\n",
       "      <td>2</td>\n",
       "      <td>2</td>\n",
       "    </tr>\n",
       "    <tr>\n",
       "      <th>4</th>\n",
       "      <td>5</td>\n",
       "      <td>1</td>\n",
       "      <td>5</td>\n",
       "      <td>1</td>\n",
       "      <td>5</td>\n",
       "      <td>1</td>\n",
       "      <td>5</td>\n",
       "      <td>1</td>\n",
       "      <td>3</td>\n",
       "      <td>1</td>\n",
       "      <td>...</td>\n",
       "      <td>US</td>\n",
       "      <td>2</td>\n",
       "      <td>1</td>\n",
       "      <td>22</td>\n",
       "      <td>3</td>\n",
       "      <td>1</td>\n",
       "      <td>1</td>\n",
       "      <td>3</td>\n",
       "      <td>2</td>\n",
       "      <td>3</td>\n",
       "    </tr>\n",
       "  </tbody>\n",
       "</table>\n",
       "<p>5 rows × 56 columns</p>\n",
       "</div>"
      ],
      "text/plain": [
       "   Q1  Q2  Q3  Q4  Q5  Q6  Q7  Q8  Q9  Q10  ...  country  fromgoogle  engnat  \\\n",
       "0   4   1   5   1   5   1   5   1   4    1  ...       US           2       1   \n",
       "1   1   5   1   4   2   5   5   4   1    5  ...       CA           2       1   \n",
       "2   1   2   1   1   5   4   3   2   1    4  ...       NL           2       2   \n",
       "3   1   4   1   5   1   4   5   4   3    5  ...       US           2       1   \n",
       "4   5   1   5   1   5   1   5   1   3    1  ...       US           2       1   \n",
       "\n",
       "   age  education  gender  orientation  race  religion  hand  \n",
       "0   22          3       1            1     3         2     3  \n",
       "1   14          1       2            2     6         1     1  \n",
       "2   30          4       1            1     1         1     2  \n",
       "3   18          2       2            5     3         2     2  \n",
       "4   22          3       1            1     3         2     3  \n",
       "\n",
       "[5 rows x 56 columns]"
      ]
     },
     "execution_count": 9,
     "metadata": {},
     "output_type": "execute_result"
    }
   ],
   "source": [
    "df.head()"
   ]
  },
  {
   "cell_type": "code",
   "execution_count": 10,
   "id": "520b0ff6-425c-409c-a15d-ebb3526a39cf",
   "metadata": {},
   "outputs": [
    {
     "name": "stdout",
     "output_type": "stream",
     "text": [
      "<class 'pandas.core.frame.DataFrame'>\n",
      "RangeIndex: 4184 entries, 0 to 4183\n",
      "Data columns (total 56 columns):\n",
      " #   Column       Non-Null Count  Dtype \n",
      "---  ------       --------------  ----- \n",
      " 0   Q1           4184 non-null   int64 \n",
      " 1   Q2           4184 non-null   int64 \n",
      " 2   Q3           4184 non-null   int64 \n",
      " 3   Q4           4184 non-null   int64 \n",
      " 4   Q5           4184 non-null   int64 \n",
      " 5   Q6           4184 non-null   int64 \n",
      " 6   Q7           4184 non-null   int64 \n",
      " 7   Q8           4184 non-null   int64 \n",
      " 8   Q9           4184 non-null   int64 \n",
      " 9   Q10          4184 non-null   int64 \n",
      " 10  Q11          4184 non-null   int64 \n",
      " 11  Q12          4184 non-null   int64 \n",
      " 12  Q13          4184 non-null   int64 \n",
      " 13  Q14          4184 non-null   int64 \n",
      " 14  Q15          4184 non-null   int64 \n",
      " 15  Q16          4184 non-null   int64 \n",
      " 16  Q17          4184 non-null   int64 \n",
      " 17  Q18          4184 non-null   int64 \n",
      " 18  Q19          4184 non-null   int64 \n",
      " 19  Q20          4184 non-null   int64 \n",
      " 20  Q21          4184 non-null   int64 \n",
      " 21  Q22          4184 non-null   int64 \n",
      " 22  Q23          4184 non-null   int64 \n",
      " 23  Q24          4184 non-null   int64 \n",
      " 24  Q25          4184 non-null   int64 \n",
      " 25  Q26          4184 non-null   int64 \n",
      " 26  Q27          4184 non-null   int64 \n",
      " 27  Q28          4184 non-null   int64 \n",
      " 28  Q29          4184 non-null   int64 \n",
      " 29  Q30          4184 non-null   int64 \n",
      " 30  Q31          4184 non-null   int64 \n",
      " 31  Q32          4184 non-null   int64 \n",
      " 32  Q33          4184 non-null   int64 \n",
      " 33  Q34          4184 non-null   int64 \n",
      " 34  Q35          4184 non-null   int64 \n",
      " 35  Q36          4184 non-null   int64 \n",
      " 36  Q37          4184 non-null   int64 \n",
      " 37  Q38          4184 non-null   int64 \n",
      " 38  Q39          4184 non-null   int64 \n",
      " 39  Q40          4184 non-null   int64 \n",
      " 40  Q41          4184 non-null   int64 \n",
      " 41  Q42          4184 non-null   int64 \n",
      " 42  Q43          4184 non-null   int64 \n",
      " 43  Q44          4184 non-null   int64 \n",
      " 44  introelapse  4184 non-null   int64 \n",
      " 45  testelapse   4184 non-null   int64 \n",
      " 46  country      4184 non-null   object\n",
      " 47  fromgoogle   4184 non-null   int64 \n",
      " 48  engnat       4184 non-null   int64 \n",
      " 49  age          4184 non-null   int64 \n",
      " 50  education    4184 non-null   int64 \n",
      " 51  gender       4184 non-null   int64 \n",
      " 52  orientation  4184 non-null   int64 \n",
      " 53  race         4184 non-null   int64 \n",
      " 54  religion     4184 non-null   int64 \n",
      " 55  hand         4184 non-null   int64 \n",
      "dtypes: int64(55), object(1)\n",
      "memory usage: 1.8+ MB\n"
     ]
    }
   ],
   "source": [
    "df.info()"
   ]
  },
  {
   "cell_type": "code",
   "execution_count": 11,
   "id": "876c8b2b-8f2a-40ce-9e86-fee149f3caf4",
   "metadata": {},
   "outputs": [
    {
     "data": {
      "text/plain": [
       "Q1             0\n",
       "Q2             0\n",
       "Q3             0\n",
       "Q4             0\n",
       "Q5             0\n",
       "Q6             0\n",
       "Q7             0\n",
       "Q8             0\n",
       "Q9             0\n",
       "Q10            0\n",
       "Q11            0\n",
       "Q12            0\n",
       "Q13            0\n",
       "Q14            0\n",
       "Q15            0\n",
       "Q16            0\n",
       "Q17            0\n",
       "Q18            0\n",
       "Q19            0\n",
       "Q20            0\n",
       "Q21            0\n",
       "Q22            0\n",
       "Q23            0\n",
       "Q24            0\n",
       "Q25            0\n",
       "Q26            0\n",
       "Q27            0\n",
       "Q28            0\n",
       "Q29            0\n",
       "Q30            0\n",
       "Q31            0\n",
       "Q32            0\n",
       "Q33            0\n",
       "Q34            0\n",
       "Q35            0\n",
       "Q36            0\n",
       "Q37            0\n",
       "Q38            0\n",
       "Q39            0\n",
       "Q40            0\n",
       "Q41            0\n",
       "Q42            0\n",
       "Q43            0\n",
       "Q44            0\n",
       "introelapse    0\n",
       "testelapse     0\n",
       "country        0\n",
       "fromgoogle     0\n",
       "engnat         0\n",
       "age            0\n",
       "education      0\n",
       "gender         0\n",
       "orientation    0\n",
       "race           0\n",
       "religion       0\n",
       "hand           0\n",
       "dtype: int64"
      ]
     },
     "execution_count": 11,
     "metadata": {},
     "output_type": "execute_result"
    }
   ],
   "source": [
    "df.isnull().sum()"
   ]
  },
  {
   "cell_type": "code",
   "execution_count": 12,
   "id": "989e545f-e60a-4910-8302-a6b4cfd54ee9",
   "metadata": {},
   "outputs": [],
   "source": [
    "# Drop unrelated columns\n",
    "df.drop(columns=['introelapse','testelapse','country','fromgoogle','engnat',\\\n",
    "                 'age','education','gender','orientation','race','religion'],axis=1,inplace=True)"
   ]
  },
  {
   "cell_type": "code",
   "execution_count": 13,
   "id": "c05bea13-fbe1-48d0-bd39-bab8fb5d5836",
   "metadata": {},
   "outputs": [
    {
     "data": {
      "text/plain": [
       "hand\n",
       "1    3542\n",
       "2     452\n",
       "3     179\n",
       "0      11\n",
       "Name: count, dtype: int64"
      ]
     },
     "execution_count": 13,
     "metadata": {},
     "output_type": "execute_result"
    }
   ],
   "source": [
    "df['hand'].value_counts()"
   ]
  },
  {
   "cell_type": "code",
   "execution_count": 14,
   "id": "8c239518-fab2-46ce-90d8-56d5bfe8b776",
   "metadata": {},
   "outputs": [],
   "source": [
    "# Drop row with hand = 0\n",
    "df.drop(df[df['hand'] == 0].index , inplace=True)"
   ]
  },
  {
   "cell_type": "code",
   "execution_count": 15,
   "id": "28e70753-f78c-44b2-a937-3c73badce7e4",
   "metadata": {},
   "outputs": [
    {
     "data": {
      "image/png": "[encoded data removed]",
      "text/plain": [
       "<Figure size 1200x900 with 2 Axes>"
      ]
     },
     "metadata": {},
     "output_type": "display_data"
    }
   ],
   "source": [
    "# Correlation focusing on Left-Handedness = 2\n",
    "plt.figure(figsize=(12,9))\n",
    "corr = df[df['hand'] == 2].corr().sort_values('hand', ascending=False)\n",
    "sns.heatmap(corr, cmap='coolwarm')\n",
    "plt.title(\"Correlations between Left-Handedness and each Psychological Answer\")\n",
    "plt.show()"
   ]
  },
  {
   "cell_type": "code",
   "execution_count": 16,
   "id": "9ffc3be4-a253-4905-8e49-0da93e33e071",
   "metadata": {},
   "outputs": [],
   "source": [
    "# Q8\tI know the birthdays of my friends.\n",
    "# Q21\tI do not remember birthdays.\n",
    "# These two are questions about birthday."
   ]
  },
  {
   "cell_type": "code",
   "execution_count": 17,
   "id": "622dc253-645f-469d-8973-f5ae2c9629f9",
   "metadata": {},
   "outputs": [],
   "source": [
    "# Q27\tI think a natural disaster would be kind of exciting.\n",
    "# Q43\tI think a natural disaster would be kind of exciting.\n",
    "# These two are the same questions"
   ]
  },
  {
   "cell_type": "markdown",
   "id": "bb26e657",
   "metadata": {},
   "source": [
    "### Calculate and interpret the baseline accuracy rate:"
   ]
  },
  {
   "cell_type": "code",
   "execution_count": 19,
   "id": "89ecc3c6",
   "metadata": {},
   "outputs": [
    {
     "data": {
      "text/plain": [
       "hand\n",
       "1    84.88\n",
       "2    10.83\n",
       "3     4.29\n",
       "Name: proportion, dtype: float64"
      ]
     },
     "execution_count": 19,
     "metadata": {},
     "output_type": "execute_result"
    }
   ],
   "source": [
    "round(df['hand'].value_counts(normalize=True)*100, 2)\n",
    "\n",
    "# Our majority class is right hand with about 84.90 percent. \n",
    "# Then, baseline accuracy rate is about 84.90 percent."
   ]
  },
  {
   "cell_type": "markdown",
   "id": "2016bb4e",
   "metadata": {},
   "source": [
    "### Short answer questions:\n",
    "\n",
    "In this lab, you'll use K-nearest neighbors and logistic regression to model handedness based on psychological factors. \n",
    "\n",
    "Answer the following related questions; your answers may be in bullet points.\n",
    "\n",
    "#### Describe the difference between regression and classification problems:"
   ]
  },
  {
   "cell_type": "markdown",
   "id": "abf77c42-dc20-4933-b925-cf580d8a2681",
   "metadata": {},
   "source": [
    "The main difference between Regression and Classification algorithms that Regression algorithms are used to predict the continuous values and Classification algorithms are used to predict/Classify the discrete values."
   ]
  },
  {
   "cell_type": "markdown",
   "id": "b7469aee",
   "metadata": {},
   "source": [
    "#### Considering $k$-nearest neighbors, describe the relationship between $k$ and the bias-variance tradeoff:"
   ]
  },
  {
   "cell_type": "markdown",
   "id": "9dfe0152-aab3-4445-a6b2-31d336e582ef",
   "metadata": {},
   "source": [
    "Higher value of k will leads to higher bias and lower variance."
   ]
  },
  {
   "cell_type": "markdown",
   "id": "7bdc66d6",
   "metadata": {},
   "source": [
    "#### Why do we often standardize predictor variables when using $k$-nearest neighbors?"
   ]
  },
  {
   "cell_type": "markdown",
   "id": "1206a9a4-856d-4610-9152-fdb9efe3dbb9",
   "metadata": {},
   "source": [
    "As k-nearest neighbors is a distance-based classifier that classifies new observations based on similar measures. Standardization makes all variables contribute equally to the similarity measures."
   ]
  },
  {
   "cell_type": "markdown",
   "id": "4ad52536",
   "metadata": {},
   "source": [
    "#### Do you think we should standardize the explanatory variables for this problem? Why or why not?"
   ]
  },
  {
   "cell_type": "markdown",
   "id": "a1b8bdc5-c6e0-4d3e-b90e-20f148274eff",
   "metadata": {},
   "source": [
    "It is unnecessary to standardize the explanatory variables for this problem, \n",
    "since each variable has a similar scale."
   ]
  },
  {
   "cell_type": "markdown",
   "id": "1cf6e09f",
   "metadata": {},
   "source": [
    "#### How do we settle on $k$ for a $k$-nearest neighbors model?"
   ]
  },
  {
   "cell_type": "markdown",
   "id": "106aa109-8679-4c27-854a-81756ac5f177",
   "metadata": {},
   "source": [
    "k in the model can be changed by hand; however, there are two easier options which are cross validation and gridSearch."
   ]
  },
  {
   "cell_type": "markdown",
   "id": "958fe4a8",
   "metadata": {},
   "source": [
    "#### What is the default type of regularization for logistic regression as implemented in scikit-learn? (You might [check the documentation](https://scikit-learn.org/stable/modules/generated/sklearn.linear_model.LogisticRegression.html).)"
   ]
  },
  {
   "cell_type": "code",
   "execution_count": null,
   "id": "4387e643-5c07-4be6-8198-68786111cac3",
   "metadata": {},
   "outputs": [],
   "source": [
    "# penalty : {'l1', 'l2', 'elasticnet', None}, default='l2'\n",
    "#     Specify the norm of the penalty:\n",
    "\n",
    "#     - `None`: no penalty is added;\n",
    "#     - `'l2'`: add a L2 penalty term and it is the default choice;\n",
    "#     - `'l1'`: add a L1 penalty term;\n",
    "#     - `'elasticnet'`: both L1 and L2 penalty terms are added."
   ]
  },
  {
   "cell_type": "markdown",
   "id": "abc59686-3cb1-4809-83fa-703866fe81bb",
   "metadata": {},
   "source": [
    "Default is l2 which is Ridge Regulization."
   ]
  },
  {
   "cell_type": "markdown",
   "id": "f4b117e3",
   "metadata": {},
   "source": [
    "#### Describe the relationship between the scikit-learn `LogisticRegression` argument `C` and regularization strength:"
   ]
  },
  {
   "cell_type": "code",
   "execution_count": null,
   "id": "22729010-a8e3-4043-bbf3-e3c76564f238",
   "metadata": {},
   "outputs": [],
   "source": [
    "# C : float, default=1.0 \n",
    "#     Inverse of regularization strength; must be a positive float.\n",
    "#     Like in support vector machines, smaller values specify stronger regularization."
   ]
  },
  {
   "cell_type": "markdown",
   "id": "4f19a574",
   "metadata": {},
   "source": [
    "#### Describe the relationship between regularization strength and the bias-variance tradeoff:"
   ]
  },
  {
   "cell_type": "markdown",
   "id": "b7e87528-fe54-4c51-9a0c-a4c4d9bfa6b3",
   "metadata": {},
   "source": [
    "As the regularization strength increase, variance will be lower and bias will be higher."
   ]
  },
  {
   "cell_type": "markdown",
   "id": "7089674d",
   "metadata": {},
   "source": [
    "#### Logistic regression is considered more interpretable than $k$-nearest neighbors. Explain why."
   ]
  },
  {
   "cell_type": "markdown",
   "id": "eb9d3cdf-bf18-475a-bde4-b61bf262a84c",
   "metadata": {},
   "source": [
    "Logistic regression is considered more interpretable. Since the logistic regression is the Paramatic model in which provide coefficient of each features.Coefficient explain the direction and intensity of significance of the independent variables over the dependent variable. <br> On the opposite k-nearest neighbors is non parametic model which it is unable to findthe impact of features on the target."
   ]
  },
  {
   "cell_type": "markdown",
   "id": "00360fc0",
   "metadata": {},
   "source": [
    "---\n",
    "\n",
    "## Step 4 & 5 Modeling: $k$-nearest neighbors\n",
    "\n",
    "### Train-test split your data:\n",
    "\n",
    "Your features should be:"
   ]
  },
  {
   "cell_type": "code",
   "execution_count": 39,
   "id": "7239cca8",
   "metadata": {},
   "outputs": [],
   "source": [
    "X = df.drop(columns='hand')\n",
    "y = df[['hand']]"
   ]
  },
  {
   "cell_type": "code",
   "execution_count": 40,
   "id": "2a7f0be5-c4a4-4313-b505-e65064b31c4d",
   "metadata": {},
   "outputs": [],
   "source": [
    "# split into train test sets\n",
    "X_train, X_test, y_train, y_test = train_test_split(X,y,stratify=y,random_state=42)"
   ]
  },
  {
   "cell_type": "code",
   "execution_count": 41,
   "id": "5c834d09-4d1a-4066-aa39-931fc193693c",
   "metadata": {},
   "outputs": [
    {
     "data": {
      "text/plain": [
       "((3129, 44), (1044, 44), (3129, 1), (1044, 1))"
      ]
     },
     "execution_count": 41,
     "metadata": {},
     "output_type": "execute_result"
    }
   ],
   "source": [
    "# summarize the shape of the train and test sets\n",
    "X_train.shape, X_test.shape, y_train.shape, y_test.shape"
   ]
  },
  {
   "cell_type": "markdown",
   "id": "772f7e27",
   "metadata": {},
   "source": [
    "#### Create and fit four separate $k$-nearest neighbors models: \n",
    "- one with $k = 3$\n",
    "- one with $k = 5$\n",
    "- one with $k = 15$\n",
    "- one with $k = 25$:"
   ]
  },
  {
   "cell_type": "code",
   "execution_count": 43,
   "id": "0eaa73e0",
   "metadata": {},
   "outputs": [],
   "source": [
    "# k = 3\n",
    "knn_3 = KNeighborsClassifier(n_neighbors=3)\n",
    "knn_3.fit(X_train, y_train.values.ravel())\n",
    "y_pred = knn_3.predict(X_test)"
   ]
  },
  {
   "cell_type": "code",
   "execution_count": 44,
   "id": "d00f5835-b296-4c3f-b0bb-a854c6fc7201",
   "metadata": {},
   "outputs": [],
   "source": [
    "# k = 5\n",
    "knn_5 = KNeighborsClassifier(n_neighbors=5)\n",
    "knn_5.fit(X_train, y_train.values.ravel())\n",
    "y_pred = knn_5.predict(X_test)"
   ]
  },
  {
   "cell_type": "code",
   "execution_count": 45,
   "id": "5373c211-e646-4d6d-bcd4-08963cac5a61",
   "metadata": {},
   "outputs": [],
   "source": [
    "# k = 15\n",
    "knn_15 = KNeighborsClassifier(n_neighbors=15)\n",
    "knn_15.fit(X_train, y_train.values.ravel())\n",
    "y_pred = knn_15.predict(X_test)"
   ]
  },
  {
   "cell_type": "code",
   "execution_count": 46,
   "id": "0184d17f-f8e4-48e7-8c42-f2b1add6f123",
   "metadata": {},
   "outputs": [],
   "source": [
    "# k = 20\n",
    "knn_20 = KNeighborsClassifier(n_neighbors=20)\n",
    "knn_20.fit(X_train, y_train.values.ravel())\n",
    "y_pred = knn_20.predict(X_test)"
   ]
  },
  {
   "cell_type": "markdown",
   "id": "6ea6f202",
   "metadata": {},
   "source": [
    "### Evaluate your models:\n",
    "\n",
    "Evaluate each of your four models on the training and testing sets, and interpret the four scores. \n",
    "\n",
    "Are any of your models overfit or underfit? \n",
    "\n",
    "Do any of your models beat the baseline accuracy rate?"
   ]
  },
  {
   "cell_type": "code",
   "execution_count": 48,
   "id": "a41192bf",
   "metadata": {},
   "outputs": [
    {
     "name": "stdout",
     "output_type": "stream",
     "text": [
      "k = 3\n",
      "Cross Validation Score :0.8092\n",
      "Train Score: 0.8651\n",
      "Test Score: 0.8170\n"
     ]
    }
   ],
   "source": [
    "print(\"k = 3\")\n",
    "print(f\"Cross Validation Score :{cross_val_score(knn_3, X, y.values.ravel(), cv=5).mean():.4f}\")\n",
    "print(f\"Train Score: {knn_3.score(X_train, y_train):.4f}\")\n",
    "print(f\"Test Score: {knn_3.score(X_test, y_test):.4f}\")"
   ]
  },
  {
   "cell_type": "code",
   "execution_count": 49,
   "id": "c2426665",
   "metadata": {},
   "outputs": [
    {
     "name": "stdout",
     "output_type": "stream",
     "text": [
      "k = 5\n",
      "Cross Validation Score :0.8346\n",
      "Train Score: 0.8527\n",
      "Test Score: 0.8496\n"
     ]
    }
   ],
   "source": [
    "print(\"k = 5\")\n",
    "print(f\"Cross Validation Score :{cross_val_score(knn_5, X, y.values.ravel(), cv=5).mean():.4f}\")\n",
    "print(f\"Train Score: {knn_5.score(X_train, y_train):.4f}\")\n",
    "print(f\"Test Score: {knn_5.score(X_test, y_test):.4f}\")"
   ]
  },
  {
   "cell_type": "code",
   "execution_count": 50,
   "id": "1de73199",
   "metadata": {},
   "outputs": [
    {
     "name": "stdout",
     "output_type": "stream",
     "text": [
      "k = 15\n",
      "Cross Validation Score :0.8486\n",
      "Train Score: 0.8488\n",
      "Test Score: 0.8487\n"
     ]
    }
   ],
   "source": [
    "print(\"k = 15\")\n",
    "print(f\"Cross Validation Score :{cross_val_score(knn_15, X, y.values.ravel(), cv=5).mean():.4f}\")\n",
    "print(f\"Train Score: {knn_15.score(X_train, y_train):.4f}\")\n",
    "print(f\"Test Score: {knn_15.score(X_test, y_test):.4f}\")"
   ]
  },
  {
   "cell_type": "code",
   "execution_count": 51,
   "id": "9da9cb48-3593-45a0-892a-34134ffdf7cd",
   "metadata": {},
   "outputs": [
    {
     "name": "stdout",
     "output_type": "stream",
     "text": [
      "k = 20\n",
      "Cross Validation Score :0.8488\n",
      "Train Score: 0.8488\n",
      "Test Score: 0.8487\n"
     ]
    }
   ],
   "source": [
    "print(\"k = 20\")\n",
    "print(f\"Cross Validation Score :{cross_val_score(knn_20, X, y.values.ravel(), cv=5).mean():.4f}\")\n",
    "print(f\"Train Score: {knn_20.score(X_train, y_train):.4f}\")\n",
    "print(f\"Test Score: {knn_20.score(X_test, y_test):.4f}\")"
   ]
  },
  {
   "cell_type": "code",
   "execution_count": 52,
   "id": "753358b7-39ff-4f57-ade3-9530860c94e8",
   "metadata": {},
   "outputs": [],
   "source": [
    "# No model beats the baseline."
   ]
  },
  {
   "cell_type": "markdown",
   "id": "8488dc25",
   "metadata": {},
   "source": [
    "---\n",
    "\n",
    "## Step 4 & 5 Modeling: logistic regression\n",
    "\n",
    "#### Create and fit four separate logistic regression models: one with LASSO and $\\alpha = 1$, one with LASSO and $\\alpha = 10$, one with Ridge and $\\alpha = 1$, and one with Ridge and $\\alpha = 10$. *(Hint: Be careful with how you specify $\\alpha$ in your model!)*\n",
    "\n",
    "Note: You can use the same train and test data as used above with kNN."
   ]
  },
  {
   "cell_type": "code",
   "execution_count": 54,
   "id": "fe96a2d4",
   "metadata": {},
   "outputs": [],
   "source": [
    "# Lasso alpha 1 \n",
    "ls_1 = LogisticRegression(penalty='l1', solver='liblinear',C=1.0)\n",
    "ls_1.fit(X_train, y_train.values.ravel())\n",
    "y_ls_1_predict = ls_1.predict(X_test)\n",
    "\n",
    "# Lasso alpha 10\n",
    "ls_10 = LogisticRegression(penalty='l1', solver='liblinear',C=10.0)\n",
    "ls_10.fit(X_train, y_train.values.ravel())\n",
    "y_ls_10_predict = ls_10.predict(X_test)"
   ]
  },
  {
   "cell_type": "code",
   "execution_count": 55,
   "id": "cb7a04e0-2238-49e2-94af-2035e1b39617",
   "metadata": {},
   "outputs": [],
   "source": [
    "# Ridge alpha 1 \n",
    "ridge_1 = LogisticRegression(penalty='l2',solver='liblinear', C=1.0)\n",
    "ridge_1.fit(X_train, y_train.values.ravel())\n",
    "y_ridge_1_predict = ridge_1.predict(X_test)\n",
    "\n",
    "# Ridge alpha 10\n",
    "ridge_10 = LogisticRegression(penalty='l2',solver='liblinear', C=1.0)\n",
    "ridge_10.fit(X_train, y_train.values.ravel())\n",
    "y_ridge_10_predict = ridge_10.predict(X_test)"
   ]
  },
  {
   "cell_type": "markdown",
   "id": "703eecea",
   "metadata": {},
   "source": [
    "### Evaluate your models:\n",
    "\n",
    "Evaluate each of your four models on the training and testing sets, and interpret the four scores. \n",
    "\n",
    "Are any of your models overfit or underfit? \n",
    "\n",
    "Do any of your models beat the baseline accuracy rate?"
   ]
  },
  {
   "cell_type": "code",
   "execution_count": 57,
   "id": "d42c9ea7",
   "metadata": {},
   "outputs": [
    {
     "name": "stdout",
     "output_type": "stream",
     "text": [
      "Lasso(Alpha = 1)\n",
      "Train Score: 0.8488\n",
      "Test Score: 0.8487\n"
     ]
    }
   ],
   "source": [
    "print(\"Lasso(Alpha = 1)\")\n",
    "print(f\"Train Score: {ls_1.score(X_train,y_train):.4f}\")\n",
    "print(f\"Test Score: {ls_1.score(X_test,y_test):.4f}\")"
   ]
  },
  {
   "cell_type": "code",
   "execution_count": 58,
   "id": "281eb1ef-b937-414c-8bbb-52345e5cf149",
   "metadata": {},
   "outputs": [
    {
     "name": "stdout",
     "output_type": "stream",
     "text": [
      "Lasso(Alpha = 10)\n",
      "Train Score: 0.8488\n",
      "Test Score: 0.8487\n"
     ]
    }
   ],
   "source": [
    "print(\"Lasso(Alpha = 10)\")\n",
    "print(f\"Train Score: {ls_10.score(X_train,y_train):.4f}\")\n",
    "print(f\"Test Score: {ls_10.score(X_test,y_test):.4f}\")"
   ]
  },
  {
   "cell_type": "code",
   "execution_count": 59,
   "id": "f039b351-6607-4796-8cdf-2fd32ace218b",
   "metadata": {},
   "outputs": [
    {
     "name": "stdout",
     "output_type": "stream",
     "text": [
      "Ridg(Alpha = 1)\n",
      "Train Score: 0.8488\n",
      "Test Score: 0.8487\n"
     ]
    }
   ],
   "source": [
    "print(\"Ridg(Alpha = 1)\")\n",
    "print(f\"Train Score: {ridge_1.score(X_train,y_train):.4f}\")\n",
    "print(f\"Test Score: {ridge_1.score(X_test,y_test):.4f}\")"
   ]
  },
  {
   "cell_type": "code",
   "execution_count": 60,
   "id": "abbb73f7-3c1b-4ff6-b005-2c66a2d61a85",
   "metadata": {},
   "outputs": [
    {
     "name": "stdout",
     "output_type": "stream",
     "text": [
      "Ridge(Alpha = 10)\n",
      "Train Score: 0.8488\n",
      "Test Score: 0.8487\n"
     ]
    }
   ],
   "source": [
    "print(\"Ridge(Alpha = 10)\")\n",
    "print(f\"Train Score: {ridge_10.score(X_train,y_train):.4f}\")\n",
    "print(f\"Test Score: {ridge_10.score(X_test,y_test):.4f}\")"
   ]
  },
  {
   "cell_type": "markdown",
   "id": "e36a746e",
   "metadata": {},
   "source": [
    "---\n",
    "\n",
    "## Step 6: Answer the problem.\n",
    "\n",
    "Are any of your models worth moving forward with? \n",
    "\n",
    "What are the \"best\" models?"
   ]
  },
  {
   "cell_type": "code",
   "execution_count": 83,
   "id": "1eeac9f0",
   "metadata": {},
   "outputs": [],
   "source": [
    "# According to the variuos test above, it can assume that the k-nearest neighbor model with k = 5 is the best model.\n",
    "# Scores are shown below.\n",
    "# Cross Validation Score :0.8346\n",
    "# Train Score: 0.8527\n",
    "# Test Score: 0.8496"
   ]
  }
 ],
 "metadata": {
  "kernelspec": {
   "display_name": "Python 3 (ipykernel)",
   "language": "python",
   "name": "python3"
  },
  "language_info": {
   "codemirror_mode": {
    "name": "ipython",
    "version": 3
   },
   "file_extension": ".py",
   "mimetype": "text/x-python",
   "name": "python",
   "nbconvert_exporter": "python",
   "pygments_lexer": "ipython3",
   "version": "3.12.4"
  }
 },
 "nbformat": 4,
 "nbformat_minor": 5
}
